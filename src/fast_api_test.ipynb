{
 "cells": [
  {
   "cell_type": "markdown",
   "source": [
    "## Define data"
   ],
   "metadata": {
    "collapsed": false
   }
  },
  {
   "cell_type": "code",
   "execution_count": 12,
   "outputs": [],
   "source": [
    "import numpy as np\n",
    "import pandas as pd\n",
    "from json import loads, dumps\n",
    "import requests"
   ],
   "metadata": {
    "collapsed": false,
    "ExecuteTime": {
     "start_time": "2023-05-03T20:30:08.949684Z",
     "end_time": "2023-05-03T20:30:09.052938Z"
    }
   }
  },
  {
   "cell_type": "code",
   "execution_count": 27,
   "outputs": [],
   "source": [
    "df = pd.read_csv('/Users/drh/Documents/Repos/nd0821-c3-project/data/census.csv')\n",
    "for col in df.columns:\n",
    "    if df[col].dtype == object:\n",
    "        df[col] = df[col].str.strip()\n",
    "df = df.drop(columns='salary')"
   ],
   "metadata": {
    "collapsed": false,
    "ExecuteTime": {
     "start_time": "2023-05-03T20:35:07.874383Z",
     "end_time": "2023-05-03T20:35:08.015290Z"
    }
   }
  },
  {
   "cell_type": "code",
   "execution_count": 28,
   "outputs": [],
   "source": [
    "# print(df.dtypes)"
   ],
   "metadata": {
    "collapsed": false,
    "ExecuteTime": {
     "start_time": "2023-05-03T20:35:10.047959Z",
     "end_time": "2023-05-03T20:35:10.060290Z"
    }
   }
  },
  {
   "cell_type": "code",
   "execution_count": 29,
   "outputs": [],
   "source": [
    "df_cols = df.copy()\n",
    "df_cols.columns = [col.replace('-', '_') for col in df_cols.columns]"
   ],
   "metadata": {
    "collapsed": false,
    "ExecuteTime": {
     "start_time": "2023-05-03T20:35:10.213635Z",
     "end_time": "2023-05-03T20:35:10.231904Z"
    }
   }
  },
  {
   "cell_type": "code",
   "execution_count": 30,
   "outputs": [
    {
     "name": "stdout",
     "output_type": "stream",
     "text": [
      "Index(['age', 'workclass', 'fnlgt', 'education', 'education_num',\n",
      "       'marital_status', 'occupation', 'relationship', 'race', 'sex',\n",
      "       'capital_gain', 'capital_loss', 'hours_per_week', 'native_country'],\n",
      "      dtype='object')\n"
     ]
    }
   ],
   "source": [
    "print(df_cols.columns)"
   ],
   "metadata": {
    "collapsed": false,
    "ExecuteTime": {
     "start_time": "2023-05-03T20:35:10.413155Z",
     "end_time": "2023-05-03T20:35:10.417475Z"
    }
   }
  },
  {
   "cell_type": "markdown",
   "source": [
    "## Define test cases"
   ],
   "metadata": {
    "collapsed": false
   }
  },
  {
   "cell_type": "markdown",
   "source": [
    "### Fast API provided"
   ],
   "metadata": {
    "collapsed": false
   }
  },
  {
   "cell_type": "code",
   "execution_count": 31,
   "outputs": [],
   "source": [
    "# test = {\n",
    "#   \"age\": 0,\n",
    "#   \"workclass\": \"string\",\n",
    "#   \"fnlgt\": 0,\n",
    "#   \"education\": \"string\",\n",
    "#   \"education_num\": 0,\n",
    "#   \"marital_status\": \"string\",\n",
    "#   \"occupation\": \"string\",\n",
    "#   \"relationship\": \"string\",\n",
    "#   \"race\": \"string\",\n",
    "#   \"sex\": \"string\",\n",
    "#   \"capital_gain\": 0,\n",
    "#   \"capital_loss\": 0,\n",
    "#   \"hours_per_week\": 0,\n",
    "#   \"native_country\": \"string\",\n",
    "#   \"salary\": \"string\"\n",
    "# }"
   ],
   "metadata": {
    "collapsed": false,
    "ExecuteTime": {
     "start_time": "2023-05-03T20:35:12.544155Z",
     "end_time": "2023-05-03T20:35:12.549310Z"
    }
   }
  },
  {
   "cell_type": "code",
   "execution_count": 14,
   "outputs": [],
   "source": [
    "example = {\n",
    "  \"age\": 0,\n",
    "  \"workclass\": \"string\",\n",
    "  \"fnlgt\": 0,\n",
    "  \"education\": \"string\",\n",
    "  \"education-num\": 0,\n",
    "  \"marital-status\": \"string\",\n",
    "  \"occupation\": \"string\",\n",
    "  \"relationship\": \"string\",\n",
    "  \"race\": \"string\",\n",
    "  \"sex\": \"string\",\n",
    "  \"capital-gain\": 0,\n",
    "  \"capital-loss\": 0,\n",
    "  \"hours-per-week\": 0,\n",
    "  \"native-country\": \"string\"\n",
    "}"
   ],
   "metadata": {
    "collapsed": false,
    "ExecuteTime": {
     "start_time": "2023-05-03T20:30:20.107841Z",
     "end_time": "2023-05-03T20:30:20.123398Z"
    }
   }
  },
  {
   "cell_type": "markdown",
   "source": [
    "### Generated"
   ],
   "metadata": {
    "collapsed": false
   }
  },
  {
   "cell_type": "code",
   "execution_count": 24,
   "outputs": [],
   "source": [
    "def generate_body(df:pd.DataFrame, index:int):\n",
    "    body = df.iloc[index].to_json()\n",
    "    return loads(body)"
   ],
   "metadata": {
    "collapsed": false,
    "ExecuteTime": {
     "start_time": "2023-05-03T20:33:54.925077Z",
     "end_time": "2023-05-03T20:33:54.931927Z"
    }
   }
  },
  {
   "cell_type": "code",
   "execution_count": 25,
   "outputs": [],
   "source": [
    "body = generate_body(df, 2)"
   ],
   "metadata": {
    "collapsed": false,
    "ExecuteTime": {
     "start_time": "2023-05-03T20:33:55.250970Z",
     "end_time": "2023-05-03T20:33:55.258160Z"
    }
   }
  },
  {
   "cell_type": "code",
   "execution_count": 26,
   "outputs": [
    {
     "data": {
      "text/plain": "{'age': 38,\n 'workclass': 'Private',\n 'fnlgt': 215646,\n 'education': 'HS-grad',\n 'education-num': 9,\n 'marital-status': 'Divorced',\n 'occupation': 'Handlers-cleaners',\n 'relationship': 'Not-in-family',\n 'race': 'White',\n 'sex': 'Male',\n 'capital-gain': 0,\n 'capital-loss': 0,\n 'hours-per-week': 40,\n 'native-country': 'United-States'}"
     },
     "execution_count": 26,
     "metadata": {},
     "output_type": "execute_result"
    }
   ],
   "source": [
    "body"
   ],
   "metadata": {
    "collapsed": false,
    "ExecuteTime": {
     "start_time": "2023-05-03T20:33:56.112835Z",
     "end_time": "2023-05-03T20:33:56.120652Z"
    }
   }
  },
  {
   "cell_type": "markdown",
   "source": [
    "### POST"
   ],
   "metadata": {
    "collapsed": false
   }
  },
  {
   "cell_type": "code",
   "execution_count": 36,
   "outputs": [],
   "source": [
    "def response(body):\n",
    "    response = requests.post(\"http://127.0.0.1:8000/prediction\", json=body)\n",
    "    print(response.status_code)\n",
    "    print(response.content)\n"
   ],
   "metadata": {
    "collapsed": false,
    "ExecuteTime": {
     "start_time": "2023-05-03T20:42:49.148188Z",
     "end_time": "2023-05-03T20:42:49.151559Z"
    }
   }
  },
  {
   "cell_type": "code",
   "execution_count": 37,
   "outputs": [
    {
     "name": "stdout",
     "output_type": "stream",
     "text": [
      "200\n",
      "b'{\"prediction:\":0}'\n"
     ]
    }
   ],
   "source": [
    "generate_response = response(body)"
   ],
   "metadata": {
    "collapsed": false,
    "ExecuteTime": {
     "start_time": "2023-05-03T20:42:56.418139Z",
     "end_time": "2023-05-03T20:42:56.463315Z"
    }
   }
  },
  {
   "cell_type": "code",
   "execution_count": 38,
   "outputs": [
    {
     "name": "stdout",
     "output_type": "stream",
     "text": [
      "200\n",
      "b'{\"prediction:\":0}'\n"
     ]
    }
   ],
   "source": [
    "example_response = response(example)"
   ],
   "metadata": {
    "collapsed": false,
    "ExecuteTime": {
     "start_time": "2023-05-03T20:43:11.520972Z",
     "end_time": "2023-05-03T20:43:11.560396Z"
    }
   }
  },
  {
   "cell_type": "code",
   "execution_count": null,
   "outputs": [],
   "source": [],
   "metadata": {
    "collapsed": false
   }
  }
 ],
 "metadata": {
  "kernelspec": {
   "display_name": "Python 3",
   "language": "python",
   "name": "python3"
  },
  "language_info": {
   "codemirror_mode": {
    "name": "ipython",
    "version": 2
   },
   "file_extension": ".py",
   "mimetype": "text/x-python",
   "name": "python",
   "nbconvert_exporter": "python",
   "pygments_lexer": "ipython2",
   "version": "2.7.6"
  }
 },
 "nbformat": 4,
 "nbformat_minor": 0
}
